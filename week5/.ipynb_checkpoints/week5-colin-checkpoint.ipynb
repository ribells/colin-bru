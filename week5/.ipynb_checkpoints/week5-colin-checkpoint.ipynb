{
 "cells": [
  {
   "cell_type": "code",
   "execution_count": null,
   "id": "01880a7a",
   "metadata": {},
   "outputs": [],
   "source": [
    "import requests\n",
    "\n",
    "url = \"https://alpha-vantage.p.rapidapi.com/query\"\n",
    "\n",
    "querystring = {\"interval\":\"5min\",\"function\":\"TIME_SERIES_INTRADAY\",\"symbol\":\"MSFT\",\"datatype\":\"json\",\"output_size\":\"compact\"}\n",
    "\n",
    "headers = {\n",
    "\t\"X-RapidAPI-Key\": \"SIGN-UP-FOR-KEY\",\n",
    "\t\"X-RapidAPI-Host\": \"alpha-vantage.p.rapidapi.com\"\n",
    "}\n",
    "\n",
    "response = requests.request(\"GET\", url, headers=headers, params=querystring)\n",
    "\n",
    "print(response.text)"
   ]
  }
 ],
 "metadata": {
  "kernelspec": {
   "display_name": "Python [conda env:mentorship] *",
   "language": "python",
   "name": "conda-env-mentorship-py"
  },
  "language_info": {
   "codemirror_mode": {
    "name": "ipython",
    "version": 3
   },
   "file_extension": ".py",
   "mimetype": "text/x-python",
   "name": "python",
   "nbconvert_exporter": "python",
   "pygments_lexer": "ipython3",
   "version": "3.9.13"
  }
 },
 "nbformat": 4,
 "nbformat_minor": 5
}
